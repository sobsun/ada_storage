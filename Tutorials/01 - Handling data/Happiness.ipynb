{
 "cells": [
  {
   "cell_type": "markdown",
   "metadata": {},
   "source": [
    "## Data from World Happiness Report\n",
    "\n",
    "The World Happiness Report is an annual publication of the United Nations Sustainable Development Solutions Network. It contains articles, and rankings of national happiness based on respondent ratings of their own lives, which the report also correlates with various life factors.\n",
    "\n",
    "In this notebook we will explore the happiness of different countries and the features associated.\n",
    "The datasets that we will use are available in *Data*: **happiness2020.pkl** and **countries_info.csv**.\n",
    "\n",
    "Although the features are self-explanatory, here a summary: \n",
    "\n",
    "**happiness2020.pkl**\n",
    "* country: *Name of the country*\n",
    "* happiness_score: *Happiness score*\n",
    "* social_support: *Social support (mitigation the effects of inequality)*\n",
    "* healthy_life_expectancy: *Healthy Life Expectancy*\n",
    "* freedom_of_choices: *Freedom to make life choices*\n",
    "* generosity: *Generosity (charity, volunteers)*\n",
    "* perception_of_corruption: *Corruption Perception*\n",
    "* world_region: *Area of the world of the country*\n",
    "\n",
    "**countries_info.csv**\n",
    "* country_name: *Name of the country*\n",
    "* area: *Area in sq mi*\n",
    "* population: *Number of people*\n",
    "* literacy: *Literacy percentage*"
   ]
  },
  {
   "cell_type": "code",
   "execution_count": 1,
   "metadata": {},
   "outputs": [
    {
     "name": "stderr",
     "output_type": "stream",
     "text": [
      "'head' n'est pas reconnu en tant que commande interne\n",
      "ou externe, un programme ex‚cutable ou un fichier de commandes.\n"
     ]
    }
   ],
   "source": [
    "!head Data/countries_info.csv"
   ]
  },
  {
   "cell_type": "code",
   "execution_count": 2,
   "metadata": {},
   "outputs": [],
   "source": [
    "import pandas as pd\n",
    "%matplotlib inline\n",
    "\n",
    "DATA_FOLDER = 'Data/'\n",
    "\n",
    "HAPPINESS_DATASET = DATA_FOLDER+\"happiness2020.csv\"\n",
    "COUNTRIES_DATASET = DATA_FOLDER+\"countries_info.csv\""
   ]
  },
  {
   "cell_type": "markdown",
   "metadata": {},
   "source": [
    "## Task 1: Load the data\n",
    "\n",
    "Load the 2 datasets in Pandas dataframes (called *happiness* and *countries*), and show the first rows.\n",
    "\n",
    "\n",
    "**Hint**: Use the correct reader and verify the data has the expected format."
   ]
  },
  {
   "cell_type": "code",
   "execution_count": 3,
   "metadata": {},
   "outputs": [
    {
     "data": {
      "text/html": [
       "<div>\n",
       "<style scoped>\n",
       "    .dataframe tbody tr th:only-of-type {\n",
       "        vertical-align: middle;\n",
       "    }\n",
       "\n",
       "    .dataframe tbody tr th {\n",
       "        vertical-align: top;\n",
       "    }\n",
       "\n",
       "    .dataframe thead th {\n",
       "        text-align: right;\n",
       "    }\n",
       "</style>\n",
       "<table border=\"1\" class=\"dataframe\">\n",
       "  <thead>\n",
       "    <tr style=\"text-align: right;\">\n",
       "      <th></th>\n",
       "      <th>country</th>\n",
       "      <th>happiness_score</th>\n",
       "      <th>social_support</th>\n",
       "      <th>healthy_life_expectancy</th>\n",
       "      <th>freedom_of_choices</th>\n",
       "      <th>generosity</th>\n",
       "      <th>perception_of_corruption</th>\n",
       "      <th>world_region</th>\n",
       "    </tr>\n",
       "  </thead>\n",
       "  <tbody>\n",
       "    <tr>\n",
       "      <th>0</th>\n",
       "      <td>Afghanistan</td>\n",
       "      <td>2.5669</td>\n",
       "      <td>0.470367</td>\n",
       "      <td>52.590000</td>\n",
       "      <td>0.396573</td>\n",
       "      <td>-0.096429</td>\n",
       "      <td>0.933687</td>\n",
       "      <td>South Asia</td>\n",
       "    </tr>\n",
       "    <tr>\n",
       "      <th>1</th>\n",
       "      <td>Albania</td>\n",
       "      <td>4.8827</td>\n",
       "      <td>0.671070</td>\n",
       "      <td>68.708138</td>\n",
       "      <td>0.781994</td>\n",
       "      <td>-0.042309</td>\n",
       "      <td>0.896304</td>\n",
       "      <td>Central and Eastern Europe</td>\n",
       "    </tr>\n",
       "    <tr>\n",
       "      <th>2</th>\n",
       "      <td>Algeria</td>\n",
       "      <td>5.0051</td>\n",
       "      <td>0.803385</td>\n",
       "      <td>65.905174</td>\n",
       "      <td>0.466611</td>\n",
       "      <td>-0.121105</td>\n",
       "      <td>0.735485</td>\n",
       "      <td>Middle East and North Africa</td>\n",
       "    </tr>\n",
       "    <tr>\n",
       "      <th>3</th>\n",
       "      <td>Argentina</td>\n",
       "      <td>5.9747</td>\n",
       "      <td>0.900568</td>\n",
       "      <td>68.803802</td>\n",
       "      <td>0.831132</td>\n",
       "      <td>-0.194914</td>\n",
       "      <td>0.842010</td>\n",
       "      <td>Latin America and Caribbean</td>\n",
       "    </tr>\n",
       "    <tr>\n",
       "      <th>4</th>\n",
       "      <td>Armenia</td>\n",
       "      <td>4.6768</td>\n",
       "      <td>0.757479</td>\n",
       "      <td>66.750656</td>\n",
       "      <td>0.712018</td>\n",
       "      <td>-0.138780</td>\n",
       "      <td>0.773545</td>\n",
       "      <td>Commonwealth of Independent States</td>\n",
       "    </tr>\n",
       "  </tbody>\n",
       "</table>\n",
       "</div>"
      ],
      "text/plain": [
       "       country  happiness_score  social_support  healthy_life_expectancy  \\\n",
       "0  Afghanistan           2.5669        0.470367                52.590000   \n",
       "1      Albania           4.8827        0.671070                68.708138   \n",
       "2      Algeria           5.0051        0.803385                65.905174   \n",
       "3    Argentina           5.9747        0.900568                68.803802   \n",
       "4      Armenia           4.6768        0.757479                66.750656   \n",
       "\n",
       "   freedom_of_choices  generosity  perception_of_corruption  \\\n",
       "0            0.396573   -0.096429                  0.933687   \n",
       "1            0.781994   -0.042309                  0.896304   \n",
       "2            0.466611   -0.121105                  0.735485   \n",
       "3            0.831132   -0.194914                  0.842010   \n",
       "4            0.712018   -0.138780                  0.773545   \n",
       "\n",
       "                         world_region  \n",
       "0                          South Asia  \n",
       "1          Central and Eastern Europe  \n",
       "2        Middle East and North Africa  \n",
       "3         Latin America and Caribbean  \n",
       "4  Commonwealth of Independent States  "
      ]
     },
     "execution_count": 3,
     "metadata": {},
     "output_type": "execute_result"
    }
   ],
   "source": [
    "# Write your code here\n",
    "happiness = pd.read_csv(HAPPINESS_DATASET, sep = ',')\n",
    "countries = pd.read_csv(COUNTRIES_DATASET, sep = ',')\n",
    "\n",
    "happiness.head()"
   ]
  },
  {
   "cell_type": "code",
   "execution_count": 4,
   "metadata": {},
   "outputs": [
    {
     "data": {
      "text/html": [
       "<div>\n",
       "<style scoped>\n",
       "    .dataframe tbody tr th:only-of-type {\n",
       "        vertical-align: middle;\n",
       "    }\n",
       "\n",
       "    .dataframe tbody tr th {\n",
       "        vertical-align: top;\n",
       "    }\n",
       "\n",
       "    .dataframe thead th {\n",
       "        text-align: right;\n",
       "    }\n",
       "</style>\n",
       "<table border=\"1\" class=\"dataframe\">\n",
       "  <thead>\n",
       "    <tr style=\"text-align: right;\">\n",
       "      <th></th>\n",
       "      <th>country_name</th>\n",
       "      <th>area</th>\n",
       "      <th>population</th>\n",
       "      <th>literacy</th>\n",
       "    </tr>\n",
       "  </thead>\n",
       "  <tbody>\n",
       "    <tr>\n",
       "      <th>0</th>\n",
       "      <td>afghanistan</td>\n",
       "      <td>647500</td>\n",
       "      <td>31056997</td>\n",
       "      <td>36,0</td>\n",
       "    </tr>\n",
       "    <tr>\n",
       "      <th>1</th>\n",
       "      <td>albania</td>\n",
       "      <td>28748</td>\n",
       "      <td>3581655</td>\n",
       "      <td>86,5</td>\n",
       "    </tr>\n",
       "    <tr>\n",
       "      <th>2</th>\n",
       "      <td>algeria</td>\n",
       "      <td>2381740</td>\n",
       "      <td>32930091</td>\n",
       "      <td>70,0</td>\n",
       "    </tr>\n",
       "    <tr>\n",
       "      <th>3</th>\n",
       "      <td>argentina</td>\n",
       "      <td>2766890</td>\n",
       "      <td>39921833</td>\n",
       "      <td>97,1</td>\n",
       "    </tr>\n",
       "    <tr>\n",
       "      <th>4</th>\n",
       "      <td>armenia</td>\n",
       "      <td>29800</td>\n",
       "      <td>2976372</td>\n",
       "      <td>98,6</td>\n",
       "    </tr>\n",
       "  </tbody>\n",
       "</table>\n",
       "</div>"
      ],
      "text/plain": [
       "  country_name     area  population literacy\n",
       "0  afghanistan   647500    31056997     36,0\n",
       "1      albania    28748     3581655     86,5\n",
       "2      algeria  2381740    32930091     70,0\n",
       "3    argentina  2766890    39921833     97,1\n",
       "4      armenia    29800     2976372     98,6"
      ]
     },
     "execution_count": 4,
     "metadata": {},
     "output_type": "execute_result"
    }
   ],
   "source": [
    "countries.head()"
   ]
  },
  {
   "cell_type": "code",
   "execution_count": 5,
   "metadata": {},
   "outputs": [
    {
     "data": {
      "text/plain": [
       "0      Afghanistan\n",
       "1          Albania\n",
       "2          Algeria\n",
       "3        Argentina\n",
       "4          Armenia\n",
       "          ...     \n",
       "130      Venezuela\n",
       "131        Vietnam\n",
       "132          Yemen\n",
       "133         Zambia\n",
       "134       Zimbabwe\n",
       "Name: country, Length: 135, dtype: object"
      ]
     },
     "execution_count": 5,
     "metadata": {},
     "output_type": "execute_result"
    }
   ],
   "source": [
    "happiness.index\n",
    "countries.index\n",
    "happiness.dtypes\n",
    "countries.dtypes\n",
    "countries['country_name']\n",
    "happiness['country']"
   ]
  },
  {
   "cell_type": "markdown",
   "metadata": {},
   "source": [
    "## Task 2: Let's merge the data\n",
    "\n",
    "Create a dataframe called *country_features* by merging *happiness* and *countries*. A row of this dataframe must describe all the features that we have about a country.\n",
    "\n",
    "**Hint**: Verify to have all the rows in the final dataframe"
   ]
  },
  {
   "cell_type": "code",
   "execution_count": 6,
   "metadata": {},
   "outputs": [
    {
     "data": {
      "text/html": [
       "<div>\n",
       "<style scoped>\n",
       "    .dataframe tbody tr th:only-of-type {\n",
       "        vertical-align: middle;\n",
       "    }\n",
       "\n",
       "    .dataframe tbody tr th {\n",
       "        vertical-align: top;\n",
       "    }\n",
       "\n",
       "    .dataframe thead th {\n",
       "        text-align: right;\n",
       "    }\n",
       "</style>\n",
       "<table border=\"1\" class=\"dataframe\">\n",
       "  <thead>\n",
       "    <tr style=\"text-align: right;\">\n",
       "      <th></th>\n",
       "      <th>country</th>\n",
       "      <th>happiness_score</th>\n",
       "      <th>social_support</th>\n",
       "      <th>healthy_life_expectancy</th>\n",
       "      <th>freedom_of_choices</th>\n",
       "      <th>generosity</th>\n",
       "      <th>perception_of_corruption</th>\n",
       "      <th>world_region</th>\n",
       "      <th>id</th>\n",
       "    </tr>\n",
       "  </thead>\n",
       "  <tbody>\n",
       "    <tr>\n",
       "      <th>0</th>\n",
       "      <td>Afghanistan</td>\n",
       "      <td>2.5669</td>\n",
       "      <td>0.470367</td>\n",
       "      <td>52.590000</td>\n",
       "      <td>0.396573</td>\n",
       "      <td>-0.096429</td>\n",
       "      <td>0.933687</td>\n",
       "      <td>South Asia</td>\n",
       "      <td>afghanistan</td>\n",
       "    </tr>\n",
       "    <tr>\n",
       "      <th>1</th>\n",
       "      <td>Albania</td>\n",
       "      <td>4.8827</td>\n",
       "      <td>0.671070</td>\n",
       "      <td>68.708138</td>\n",
       "      <td>0.781994</td>\n",
       "      <td>-0.042309</td>\n",
       "      <td>0.896304</td>\n",
       "      <td>Central and Eastern Europe</td>\n",
       "      <td>albania</td>\n",
       "    </tr>\n",
       "    <tr>\n",
       "      <th>2</th>\n",
       "      <td>Algeria</td>\n",
       "      <td>5.0051</td>\n",
       "      <td>0.803385</td>\n",
       "      <td>65.905174</td>\n",
       "      <td>0.466611</td>\n",
       "      <td>-0.121105</td>\n",
       "      <td>0.735485</td>\n",
       "      <td>Middle East and North Africa</td>\n",
       "      <td>algeria</td>\n",
       "    </tr>\n",
       "    <tr>\n",
       "      <th>3</th>\n",
       "      <td>Argentina</td>\n",
       "      <td>5.9747</td>\n",
       "      <td>0.900568</td>\n",
       "      <td>68.803802</td>\n",
       "      <td>0.831132</td>\n",
       "      <td>-0.194914</td>\n",
       "      <td>0.842010</td>\n",
       "      <td>Latin America and Caribbean</td>\n",
       "      <td>argentina</td>\n",
       "    </tr>\n",
       "    <tr>\n",
       "      <th>4</th>\n",
       "      <td>Armenia</td>\n",
       "      <td>4.6768</td>\n",
       "      <td>0.757479</td>\n",
       "      <td>66.750656</td>\n",
       "      <td>0.712018</td>\n",
       "      <td>-0.138780</td>\n",
       "      <td>0.773545</td>\n",
       "      <td>Commonwealth of Independent States</td>\n",
       "      <td>armenia</td>\n",
       "    </tr>\n",
       "  </tbody>\n",
       "</table>\n",
       "</div>"
      ],
      "text/plain": [
       "       country  happiness_score  social_support  healthy_life_expectancy  \\\n",
       "0  Afghanistan           2.5669        0.470367                52.590000   \n",
       "1      Albania           4.8827        0.671070                68.708138   \n",
       "2      Algeria           5.0051        0.803385                65.905174   \n",
       "3    Argentina           5.9747        0.900568                68.803802   \n",
       "4      Armenia           4.6768        0.757479                66.750656   \n",
       "\n",
       "   freedom_of_choices  generosity  perception_of_corruption  \\\n",
       "0            0.396573   -0.096429                  0.933687   \n",
       "1            0.781994   -0.042309                  0.896304   \n",
       "2            0.466611   -0.121105                  0.735485   \n",
       "3            0.831132   -0.194914                  0.842010   \n",
       "4            0.712018   -0.138780                  0.773545   \n",
       "\n",
       "                         world_region           id  \n",
       "0                          South Asia  afghanistan  \n",
       "1          Central and Eastern Europe      albania  \n",
       "2        Middle East and North Africa      algeria  \n",
       "3         Latin America and Caribbean    argentina  \n",
       "4  Commonwealth of Independent States      armenia  "
      ]
     },
     "execution_count": 6,
     "metadata": {},
     "output_type": "execute_result"
    }
   ],
   "source": [
    "# Write your code here\n",
    "happiness['id'] = happiness['country'].str.lower()\n",
    "happiness.head()"
   ]
  },
  {
   "cell_type": "code",
   "execution_count": 7,
   "metadata": {},
   "outputs": [
    {
     "data": {
      "text/plain": [
       "Int64Index([  0,   1,   2,   3,   4,   5,   6,   7,   8,   9,\n",
       "            ...\n",
       "            125, 126, 127, 128, 129, 130, 131, 132, 133, 134],\n",
       "           dtype='int64', length=135)"
      ]
     },
     "execution_count": 7,
     "metadata": {},
     "output_type": "execute_result"
    }
   ],
   "source": [
    "country_features = pd.merge(countries, happiness, left_on = 'country_name', right_on = 'id')\n",
    "country_features.head()\n",
    "country_features.index"
   ]
  },
  {
   "cell_type": "markdown",
   "metadata": {},
   "source": [
    "## Task 3: Where do people are happier?\n",
    "\n",
    "Print the top 10 countries based on their happiness score (high is better)."
   ]
  },
  {
   "cell_type": "code",
   "execution_count": 22,
   "metadata": {},
   "outputs": [
    {
     "data": {
      "text/html": [
       "<div>\n",
       "<style scoped>\n",
       "    .dataframe tbody tr th:only-of-type {\n",
       "        vertical-align: middle;\n",
       "    }\n",
       "\n",
       "    .dataframe tbody tr th {\n",
       "        vertical-align: top;\n",
       "    }\n",
       "\n",
       "    .dataframe thead th {\n",
       "        text-align: right;\n",
       "    }\n",
       "</style>\n",
       "<table border=\"1\" class=\"dataframe\">\n",
       "  <thead>\n",
       "    <tr style=\"text-align: right;\">\n",
       "      <th></th>\n",
       "      <th>country_name</th>\n",
       "      <th>area</th>\n",
       "      <th>population</th>\n",
       "      <th>literacy</th>\n",
       "      <th>country</th>\n",
       "      <th>happiness_score</th>\n",
       "      <th>social_support</th>\n",
       "      <th>healthy_life_expectancy</th>\n",
       "      <th>freedom_of_choices</th>\n",
       "      <th>generosity</th>\n",
       "      <th>perception_of_corruption</th>\n",
       "      <th>world_region</th>\n",
       "      <th>id</th>\n",
       "    </tr>\n",
       "    <tr>\n",
       "      <th>country</th>\n",
       "      <th></th>\n",
       "      <th></th>\n",
       "      <th></th>\n",
       "      <th></th>\n",
       "      <th></th>\n",
       "      <th></th>\n",
       "      <th></th>\n",
       "      <th></th>\n",
       "      <th></th>\n",
       "      <th></th>\n",
       "      <th></th>\n",
       "      <th></th>\n",
       "      <th></th>\n",
       "    </tr>\n",
       "  </thead>\n",
       "  <tbody>\n",
       "    <tr>\n",
       "      <th>Finland</th>\n",
       "      <td>finland</td>\n",
       "      <td>338145</td>\n",
       "      <td>5231372</td>\n",
       "      <td>100,0</td>\n",
       "      <td>Finland</td>\n",
       "      <td>7.8087</td>\n",
       "      <td>0.954330</td>\n",
       "      <td>71.900825</td>\n",
       "      <td>0.949172</td>\n",
       "      <td>-0.059482</td>\n",
       "      <td>0.195445</td>\n",
       "      <td>Western Europe</td>\n",
       "      <td>finland</td>\n",
       "    </tr>\n",
       "    <tr>\n",
       "      <th>Denmark</th>\n",
       "      <td>denmark</td>\n",
       "      <td>43094</td>\n",
       "      <td>5450661</td>\n",
       "      <td>100,0</td>\n",
       "      <td>Denmark</td>\n",
       "      <td>7.6456</td>\n",
       "      <td>0.955991</td>\n",
       "      <td>72.402504</td>\n",
       "      <td>0.951444</td>\n",
       "      <td>0.066202</td>\n",
       "      <td>0.168489</td>\n",
       "      <td>Western Europe</td>\n",
       "      <td>denmark</td>\n",
       "    </tr>\n",
       "    <tr>\n",
       "      <th>Switzerland</th>\n",
       "      <td>switzerland</td>\n",
       "      <td>41290</td>\n",
       "      <td>7523934</td>\n",
       "      <td>99,0</td>\n",
       "      <td>Switzerland</td>\n",
       "      <td>7.5599</td>\n",
       "      <td>0.942847</td>\n",
       "      <td>74.102448</td>\n",
       "      <td>0.921337</td>\n",
       "      <td>0.105911</td>\n",
       "      <td>0.303728</td>\n",
       "      <td>Western Europe</td>\n",
       "      <td>switzerland</td>\n",
       "    </tr>\n",
       "    <tr>\n",
       "      <th>Iceland</th>\n",
       "      <td>iceland</td>\n",
       "      <td>103000</td>\n",
       "      <td>299388</td>\n",
       "      <td>99,9</td>\n",
       "      <td>Iceland</td>\n",
       "      <td>7.5045</td>\n",
       "      <td>0.974670</td>\n",
       "      <td>73.000000</td>\n",
       "      <td>0.948892</td>\n",
       "      <td>0.246944</td>\n",
       "      <td>0.711710</td>\n",
       "      <td>Western Europe</td>\n",
       "      <td>iceland</td>\n",
       "    </tr>\n",
       "    <tr>\n",
       "      <th>Norway</th>\n",
       "      <td>norway</td>\n",
       "      <td>323802</td>\n",
       "      <td>4610820</td>\n",
       "      <td>100,0</td>\n",
       "      <td>Norway</td>\n",
       "      <td>7.4880</td>\n",
       "      <td>0.952487</td>\n",
       "      <td>73.200783</td>\n",
       "      <td>0.955750</td>\n",
       "      <td>0.134533</td>\n",
       "      <td>0.263218</td>\n",
       "      <td>Western Europe</td>\n",
       "      <td>norway</td>\n",
       "    </tr>\n",
       "    <tr>\n",
       "      <th>Netherlands</th>\n",
       "      <td>netherlands</td>\n",
       "      <td>41526</td>\n",
       "      <td>16491461</td>\n",
       "      <td>99,0</td>\n",
       "      <td>Netherlands</td>\n",
       "      <td>7.4489</td>\n",
       "      <td>0.939139</td>\n",
       "      <td>72.300919</td>\n",
       "      <td>0.908548</td>\n",
       "      <td>0.207612</td>\n",
       "      <td>0.364717</td>\n",
       "      <td>Western Europe</td>\n",
       "      <td>netherlands</td>\n",
       "    </tr>\n",
       "    <tr>\n",
       "      <th>Sweden</th>\n",
       "      <td>sweden</td>\n",
       "      <td>449964</td>\n",
       "      <td>9016596</td>\n",
       "      <td>99,0</td>\n",
       "      <td>Sweden</td>\n",
       "      <td>7.3535</td>\n",
       "      <td>0.926311</td>\n",
       "      <td>72.600769</td>\n",
       "      <td>0.939144</td>\n",
       "      <td>0.111615</td>\n",
       "      <td>0.250880</td>\n",
       "      <td>Western Europe</td>\n",
       "      <td>sweden</td>\n",
       "    </tr>\n",
       "    <tr>\n",
       "      <th>New Zealand</th>\n",
       "      <td>new zealand</td>\n",
       "      <td>268680</td>\n",
       "      <td>4076140</td>\n",
       "      <td>99,0</td>\n",
       "      <td>New Zealand</td>\n",
       "      <td>7.2996</td>\n",
       "      <td>0.949119</td>\n",
       "      <td>73.202629</td>\n",
       "      <td>0.936217</td>\n",
       "      <td>0.191598</td>\n",
       "      <td>0.221139</td>\n",
       "      <td>North America and ANZ</td>\n",
       "      <td>new zealand</td>\n",
       "    </tr>\n",
       "    <tr>\n",
       "      <th>Austria</th>\n",
       "      <td>austria</td>\n",
       "      <td>83870</td>\n",
       "      <td>8192880</td>\n",
       "      <td>98,0</td>\n",
       "      <td>Austria</td>\n",
       "      <td>7.2942</td>\n",
       "      <td>0.928046</td>\n",
       "      <td>73.002502</td>\n",
       "      <td>0.899989</td>\n",
       "      <td>0.085429</td>\n",
       "      <td>0.499955</td>\n",
       "      <td>Western Europe</td>\n",
       "      <td>austria</td>\n",
       "    </tr>\n",
       "    <tr>\n",
       "      <th>Luxembourg</th>\n",
       "      <td>luxembourg</td>\n",
       "      <td>2586</td>\n",
       "      <td>474413</td>\n",
       "      <td>100,0</td>\n",
       "      <td>Luxembourg</td>\n",
       "      <td>7.2375</td>\n",
       "      <td>0.906912</td>\n",
       "      <td>72.599998</td>\n",
       "      <td>0.905636</td>\n",
       "      <td>-0.004621</td>\n",
       "      <td>0.367084</td>\n",
       "      <td>Western Europe</td>\n",
       "      <td>luxembourg</td>\n",
       "    </tr>\n",
       "  </tbody>\n",
       "</table>\n",
       "</div>"
      ],
      "text/plain": [
       "            country_name    area  population literacy      country  \\\n",
       "country                                                              \n",
       "Finland          finland  338145     5231372    100,0      Finland   \n",
       "Denmark          denmark   43094     5450661    100,0      Denmark   \n",
       "Switzerland  switzerland   41290     7523934     99,0  Switzerland   \n",
       "Iceland          iceland  103000      299388     99,9      Iceland   \n",
       "Norway            norway  323802     4610820    100,0       Norway   \n",
       "Netherlands  netherlands   41526    16491461     99,0  Netherlands   \n",
       "Sweden            sweden  449964     9016596     99,0       Sweden   \n",
       "New Zealand  new zealand  268680     4076140     99,0  New Zealand   \n",
       "Austria          austria   83870     8192880     98,0      Austria   \n",
       "Luxembourg    luxembourg    2586      474413    100,0   Luxembourg   \n",
       "\n",
       "             happiness_score  social_support  healthy_life_expectancy  \\\n",
       "country                                                                 \n",
       "Finland               7.8087        0.954330                71.900825   \n",
       "Denmark               7.6456        0.955991                72.402504   \n",
       "Switzerland           7.5599        0.942847                74.102448   \n",
       "Iceland               7.5045        0.974670                73.000000   \n",
       "Norway                7.4880        0.952487                73.200783   \n",
       "Netherlands           7.4489        0.939139                72.300919   \n",
       "Sweden                7.3535        0.926311                72.600769   \n",
       "New Zealand           7.2996        0.949119                73.202629   \n",
       "Austria               7.2942        0.928046                73.002502   \n",
       "Luxembourg            7.2375        0.906912                72.599998   \n",
       "\n",
       "             freedom_of_choices  generosity  perception_of_corruption  \\\n",
       "country                                                                 \n",
       "Finland                0.949172   -0.059482                  0.195445   \n",
       "Denmark                0.951444    0.066202                  0.168489   \n",
       "Switzerland            0.921337    0.105911                  0.303728   \n",
       "Iceland                0.948892    0.246944                  0.711710   \n",
       "Norway                 0.955750    0.134533                  0.263218   \n",
       "Netherlands            0.908548    0.207612                  0.364717   \n",
       "Sweden                 0.939144    0.111615                  0.250880   \n",
       "New Zealand            0.936217    0.191598                  0.221139   \n",
       "Austria                0.899989    0.085429                  0.499955   \n",
       "Luxembourg             0.905636   -0.004621                  0.367084   \n",
       "\n",
       "                      world_region           id  \n",
       "country                                          \n",
       "Finland             Western Europe      finland  \n",
       "Denmark             Western Europe      denmark  \n",
       "Switzerland         Western Europe  switzerland  \n",
       "Iceland             Western Europe      iceland  \n",
       "Norway              Western Europe       norway  \n",
       "Netherlands         Western Europe  netherlands  \n",
       "Sweden              Western Europe       sweden  \n",
       "New Zealand  North America and ANZ  new zealand  \n",
       "Austria             Western Europe      austria  \n",
       "Luxembourg          Western Europe   luxembourg  "
      ]
     },
     "execution_count": 22,
     "metadata": {},
     "output_type": "execute_result"
    }
   ],
   "source": [
    "# Write your code here\n",
    "country_features.index = country_features['country']\n",
    "top_10_countries = country_features.sort_values(ascending=False, by=['happiness_score']).head(10)\n",
    "top_10_countries"
   ]
  },
  {
   "cell_type": "markdown",
   "metadata": {},
   "source": [
    "We are interested to know in what world region the people are happier. \n",
    "\n",
    "Create and print a dataframe with the (1) average happiness score and (2) the number of contries for each world region.\n",
    "Sort the result to show the happiness ranking."
   ]
  },
  {
   "cell_type": "code",
   "execution_count": 9,
   "metadata": {},
   "outputs": [],
   "source": [
    "# Write your code here\n",
    "country_features_h = country_features.set_index(['world_region', 'country_name'])\n",
    "country_features_h.index\n",
    "\n",
    "world_regions_features = country_features.groupby(country_features.world_region)"
   ]
  },
  {
   "cell_type": "markdown",
   "metadata": {},
   "source": [
    "The first region has only a few countries! What are them and what is their score?"
   ]
  },
  {
   "cell_type": "code",
   "execution_count": 10,
   "metadata": {},
   "outputs": [],
   "source": [
    "# Write your code here"
   ]
  },
  {
   "cell_type": "markdown",
   "metadata": {},
   "source": [
    "## Task 4: How literate is the world?\n",
    "\n",
    "Print the name of countries with a level of literacy of 100%. \n",
    "\n",
    "For each country, print the name and the world region with the format: *{region name} - {country name} ({happiness score})*"
   ]
  },
  {
   "cell_type": "code",
   "execution_count": 11,
   "metadata": {},
   "outputs": [],
   "source": [
    "# Write your code here\n",
    "# check how to print in a beautiful manner"
   ]
  },
  {
   "cell_type": "markdown",
   "metadata": {},
   "source": [
    "What is the global average?"
   ]
  },
  {
   "cell_type": "code",
   "execution_count": 12,
   "metadata": {},
   "outputs": [],
   "source": [
    "# Write your code here"
   ]
  },
  {
   "cell_type": "markdown",
   "metadata": {},
   "source": [
    "Calculate the proportion of countries with a literacy level below 50%. Print the value in percentage, formatted with 2 decimals."
   ]
  },
  {
   "cell_type": "code",
   "execution_count": 13,
   "metadata": {},
   "outputs": [],
   "source": [
    "# Write your code here"
   ]
  },
  {
   "cell_type": "markdown",
   "metadata": {},
   "source": [
    "Print the raw number and the percentage of world population that is illiterate."
   ]
  },
  {
   "cell_type": "code",
   "execution_count": 14,
   "metadata": {},
   "outputs": [],
   "source": [
    "# Write your code here"
   ]
  },
  {
   "cell_type": "markdown",
   "metadata": {},
   "source": [
    "## Task 5: Population density\n",
    "\n",
    "Add to the dataframe a new field called *population_density* computed by dividing *population* by *area*."
   ]
  },
  {
   "cell_type": "code",
   "execution_count": 15,
   "metadata": {},
   "outputs": [],
   "source": [
    "# Write your code here\n",
    "\n",
    "# apply lambda"
   ]
  },
  {
   "cell_type": "markdown",
   "metadata": {},
   "source": [
    "What is the happiness score of the 3 countries with lowest population density?"
   ]
  },
  {
   "cell_type": "code",
   "execution_count": 16,
   "metadata": {},
   "outputs": [],
   "source": [
    "# Write your code here"
   ]
  },
  {
   "cell_type": "markdown",
   "metadata": {},
   "source": [
    "## Task 6: Healty and happy?\n",
    "\n",
    "Plot in scatter plot the happiness score (x) and healty life expectancy (y)."
   ]
  },
  {
   "cell_type": "code",
   "execution_count": 17,
   "metadata": {},
   "outputs": [],
   "source": [
    "# Write your code here"
   ]
  },
  {
   "cell_type": "markdown",
   "metadata": {},
   "source": [
    "Feel free to continue the exploration of the dataset! We'll release the solutions next week.\n",
    "\n",
    "----\n",
    "Enjoy EPFL and be happy, next year Switzerland must be #1."
   ]
  }
 ],
 "metadata": {
  "kernelspec": {
   "display_name": "Python 3 (ipykernel)",
   "language": "python",
   "name": "python3"
  },
  "language_info": {
   "codemirror_mode": {
    "name": "ipython",
    "version": 3
   },
   "file_extension": ".py",
   "mimetype": "text/x-python",
   "name": "python",
   "nbconvert_exporter": "python",
   "pygments_lexer": "ipython3",
   "version": "3.9.13"
  }
 },
 "nbformat": 4,
 "nbformat_minor": 4
}
