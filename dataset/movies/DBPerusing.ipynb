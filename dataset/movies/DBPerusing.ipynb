{
 "cells": [
  {
   "cell_type": "markdown",
   "id": "6a937e25-3e55-4ffe-b244-249db8865624",
   "metadata": {},
   "source": [
    "# Movies database"
   ]
  },
  {
   "cell_type": "code",
   "execution_count": 1,
   "id": "92e86a1d-f1f8-47a9-af69-6240800b3d9e",
   "metadata": {},
   "outputs": [],
   "source": [
    "#!pip install pandas_profiling"
   ]
  },
  {
   "cell_type": "code",
   "execution_count": 1,
   "id": "61bb4c48-c661-4e9a-9631-45964c253fd9",
   "metadata": {},
   "outputs": [],
   "source": [
    "import pandas as pd\n",
    "import numpy as np\n",
    "import pandas_profiling \n",
    "import sweetviz\n",
    "from datetime import datetime, date, time\n",
    "from dateutil.parser import parse\n",
    "\n",
    "DATA_FOLDER = \"MovieSummaries/\"\n"
   ]
  },
  {
   "cell_type": "markdown",
   "id": "4e655fbc-04e2-421b-b620-a02916b529bc",
   "metadata": {},
   "source": [
    "## Character metadata .tsv"
   ]
  },
  {
   "cell_type": "code",
   "execution_count": null,
   "id": "af6eebbc-566d-486c-b2e6-f65a781c951b",
   "metadata": {},
   "outputs": [
    {
     "data": {
      "application/vnd.jupyter.widget-view+json": {
       "model_id": "8897205c63de4a7ea53af7019a359599",
       "version_major": 2,
       "version_minor": 0
      },
      "text/plain": [
       "                                             |                                             | [  0%]   00:00 ->…"
      ]
     },
     "metadata": {},
     "output_type": "display_data"
    }
   ],
   "source": [
    "character_column_name = ['Wikipedia_movie_ID','Freebase movie ID','Movie release date',\n",
    "                         'Character name','actor_date_birth','Actor gender','Actor height',\n",
    "                         'actor_ethnicity','Actor name','actor_age','actor map ID',\n",
    "                         'Freebase character ID','Freebase actor ID']\n",
    "df = pd.read_table(DATA_FOLDER  + \"character.metadata.tsv\", names = character_column_name, sep = '\\t')\n",
    "df.head()\n",
    "my_report  = sweetviz.analyze([df,'Movie release date'])\n",
    "my_report.show_html('FinalReport.html')"
   ]
  },
  {
   "cell_type": "code",
   "execution_count": null,
   "id": "f6b973d4-51ef-466f-815b-b97de3a74742",
   "metadata": {},
   "outputs": [],
   "source": [
    "#pandas_profiling.ProfileReport(df)"
   ]
  },
  {
   "cell_type": "code",
   "execution_count": null,
   "id": "29e5ad89-f344-4674-b8f8-27a26f25f6fc",
   "metadata": {},
   "outputs": [],
   "source": [
    "df.describe()\n",
    "df[df.actor_age <= 0]\n",
    "df.dtypes\n",
    "df.actor_date_birth\n",
    "#df.apply((lambda x : parse(x.actor_date_birth)), axis = 1)\n",
    "parse(df.actor_date_birth.iloc[0])\n",
    "df.count()/df.Wikipedia_movie_ID.count()*100"
   ]
  },
  {
   "cell_type": "markdown",
   "id": "17a3da07-96ec-47a2-97b3-19f3630f0cf1",
   "metadata": {},
   "source": [
    "## Movie metadata"
   ]
  },
  {
   "cell_type": "code",
   "execution_count": 55,
   "id": "241987b4-d117-4d20-92d9-755a38a9f57b",
   "metadata": {},
   "outputs": [
    {
     "data": {
      "text/html": [
       "<div>\n",
       "<style scoped>\n",
       "    .dataframe tbody tr th:only-of-type {\n",
       "        vertical-align: middle;\n",
       "    }\n",
       "\n",
       "    .dataframe tbody tr th {\n",
       "        vertical-align: top;\n",
       "    }\n",
       "\n",
       "    .dataframe thead th {\n",
       "        text-align: right;\n",
       "    }\n",
       "</style>\n",
       "<table border=\"1\" class=\"dataframe\">\n",
       "  <thead>\n",
       "    <tr style=\"text-align: right;\">\n",
       "      <th></th>\n",
       "      <th>Wikipedia_movie_ID</th>\n",
       "      <th>Freebase movie ID</th>\n",
       "      <th>movie_name</th>\n",
       "      <th>movie_release_date</th>\n",
       "      <th>Movie box office revenue</th>\n",
       "      <th>movie_runtime</th>\n",
       "      <th>Movie languages</th>\n",
       "      <th>Movie countries</th>\n",
       "      <th>MovieGenres</th>\n",
       "    </tr>\n",
       "  </thead>\n",
       "  <tbody>\n",
       "    <tr>\n",
       "      <th>0</th>\n",
       "      <td>975900</td>\n",
       "      <td>/m/03vyhn</td>\n",
       "      <td>Ghosts of Mars</td>\n",
       "      <td>2001-08-24</td>\n",
       "      <td>14010832.0</td>\n",
       "      <td>98.0</td>\n",
       "      <td>{\"/m/02h40lc\": \"English Language\"}</td>\n",
       "      <td>{\"/m/09c7w0\": \"United States of America\"}</td>\n",
       "      <td>{\"/m/01jfsb\": \"Thriller\", \"/m/06n90\": \"Science...</td>\n",
       "    </tr>\n",
       "    <tr>\n",
       "      <th>1</th>\n",
       "      <td>3196793</td>\n",
       "      <td>/m/08yl5d</td>\n",
       "      <td>Getting Away with Murder: The JonBenét Ramsey ...</td>\n",
       "      <td>2000-02-16</td>\n",
       "      <td>NaN</td>\n",
       "      <td>95.0</td>\n",
       "      <td>{\"/m/02h40lc\": \"English Language\"}</td>\n",
       "      <td>{\"/m/09c7w0\": \"United States of America\"}</td>\n",
       "      <td>{\"/m/02n4kr\": \"Mystery\", \"/m/03bxz7\": \"Biograp...</td>\n",
       "    </tr>\n",
       "    <tr>\n",
       "      <th>2</th>\n",
       "      <td>28463795</td>\n",
       "      <td>/m/0crgdbh</td>\n",
       "      <td>Brun bitter</td>\n",
       "      <td>1988</td>\n",
       "      <td>NaN</td>\n",
       "      <td>83.0</td>\n",
       "      <td>{\"/m/05f_3\": \"Norwegian Language\"}</td>\n",
       "      <td>{\"/m/05b4w\": \"Norway\"}</td>\n",
       "      <td>{\"/m/0lsxr\": \"Crime Fiction\", \"/m/07s9rl0\": \"D...</td>\n",
       "    </tr>\n",
       "    <tr>\n",
       "      <th>3</th>\n",
       "      <td>9363483</td>\n",
       "      <td>/m/0285_cd</td>\n",
       "      <td>White Of The Eye</td>\n",
       "      <td>1987</td>\n",
       "      <td>NaN</td>\n",
       "      <td>110.0</td>\n",
       "      <td>{\"/m/02h40lc\": \"English Language\"}</td>\n",
       "      <td>{\"/m/07ssc\": \"United Kingdom\"}</td>\n",
       "      <td>{\"/m/01jfsb\": \"Thriller\", \"/m/0glj9q\": \"Erotic...</td>\n",
       "    </tr>\n",
       "    <tr>\n",
       "      <th>4</th>\n",
       "      <td>261236</td>\n",
       "      <td>/m/01mrr1</td>\n",
       "      <td>A Woman in Flames</td>\n",
       "      <td>1983</td>\n",
       "      <td>NaN</td>\n",
       "      <td>106.0</td>\n",
       "      <td>{\"/m/04306rv\": \"German Language\"}</td>\n",
       "      <td>{\"/m/0345h\": \"Germany\"}</td>\n",
       "      <td>{\"/m/07s9rl0\": \"Drama\"}</td>\n",
       "    </tr>\n",
       "  </tbody>\n",
       "</table>\n",
       "</div>"
      ],
      "text/plain": [
       "   Wikipedia_movie_ID Freebase movie ID  \\\n",
       "0              975900         /m/03vyhn   \n",
       "1             3196793         /m/08yl5d   \n",
       "2            28463795        /m/0crgdbh   \n",
       "3             9363483        /m/0285_cd   \n",
       "4              261236         /m/01mrr1   \n",
       "\n",
       "                                          movie_name movie_release_date  \\\n",
       "0                                     Ghosts of Mars         2001-08-24   \n",
       "1  Getting Away with Murder: The JonBenét Ramsey ...         2000-02-16   \n",
       "2                                        Brun bitter               1988   \n",
       "3                                   White Of The Eye               1987   \n",
       "4                                  A Woman in Flames               1983   \n",
       "\n",
       "   Movie box office revenue  movie_runtime  \\\n",
       "0                14010832.0           98.0   \n",
       "1                       NaN           95.0   \n",
       "2                       NaN           83.0   \n",
       "3                       NaN          110.0   \n",
       "4                       NaN          106.0   \n",
       "\n",
       "                      Movie languages  \\\n",
       "0  {\"/m/02h40lc\": \"English Language\"}   \n",
       "1  {\"/m/02h40lc\": \"English Language\"}   \n",
       "2  {\"/m/05f_3\": \"Norwegian Language\"}   \n",
       "3  {\"/m/02h40lc\": \"English Language\"}   \n",
       "4   {\"/m/04306rv\": \"German Language\"}   \n",
       "\n",
       "                             Movie countries  \\\n",
       "0  {\"/m/09c7w0\": \"United States of America\"}   \n",
       "1  {\"/m/09c7w0\": \"United States of America\"}   \n",
       "2                     {\"/m/05b4w\": \"Norway\"}   \n",
       "3             {\"/m/07ssc\": \"United Kingdom\"}   \n",
       "4                    {\"/m/0345h\": \"Germany\"}   \n",
       "\n",
       "                                         MovieGenres  \n",
       "0  {\"/m/01jfsb\": \"Thriller\", \"/m/06n90\": \"Science...  \n",
       "1  {\"/m/02n4kr\": \"Mystery\", \"/m/03bxz7\": \"Biograp...  \n",
       "2  {\"/m/0lsxr\": \"Crime Fiction\", \"/m/07s9rl0\": \"D...  \n",
       "3  {\"/m/01jfsb\": \"Thriller\", \"/m/0glj9q\": \"Erotic...  \n",
       "4                            {\"/m/07s9rl0\": \"Drama\"}  "
      ]
     },
     "execution_count": 55,
     "metadata": {},
     "output_type": "execute_result"
    }
   ],
   "source": [
    "movie_column_name = ['Wikipedia_movie_ID','Freebase movie ID','movie_name',\n",
    "                     'movie_release_date','Movie box office revenue',\n",
    "                     'movie_runtime','Movie languages','Movie countries','MovieGenres']\n",
    "df2 = pd.read_table(DATA_FOLDER  +\"movie.metadata.tsv\", sep = '\\t', names = movie_column_name)\n",
    "#pandas_profiling.ProfileReport(df2)\n",
    "df2.head()\n",
    "#df2.dtypes\n",
    "#df2.movie_release_date.apply(lambda d: datetime.strptime(d, '%Y-%m-%d')).head(10)\n",
    "pd.to_datetime(df2.movie_release_date[:10])\n",
    "df2.count()/df2.Wikipedia_movie_ID.count()*100\n",
    "df2.head()"
   ]
  },
  {
   "cell_type": "code",
   "execution_count": 54,
   "id": "a08a05cd-2a52-4a03-b9a9-f3fefb95ff1b",
   "metadata": {},
   "outputs": [
    {
     "data": {
      "application/vnd.jupyter.widget-view+json": {
       "model_id": "9eb0985ddff7438ead950e7d4d6a21bb",
       "version_major": 2,
       "version_minor": 0
      },
      "text/plain": [
       "                                             |                                             | [  0%]   00:00 ->…"
      ]
     },
     "metadata": {},
     "output_type": "display_data"
    },
    {
     "name": "stdout",
     "output_type": "stream",
     "text": [
      "Report FinalReport.html was generated! NOTEBOOK/COLAB USERS: the web browser MAY not pop up, regardless, the report IS saved in your notebook/colab files.\n"
     ]
    }
   ],
   "source": [
    "my_report  = sweetviz.analyze(df2)\n",
    "my_report.show_html('FinalReport.html')"
   ]
  },
  {
   "cell_type": "code",
   "execution_count": null,
   "id": "bbe8ce0f-a835-4df8-8e3c-8f51c80ae740",
   "metadata": {},
   "outputs": [],
   "source": [
    "df2.movie_release_date = pd.to_datetime(df2.movie_release_date, errors = 'coerce')\n",
    "#df2.movie_runtime[:100].plot.hist(bins=10)\n",
    "#for idx, row in df2.iterrows():\n",
    " #   parse(row.movie_release_date)\n",
    "#df2.movie_release_date.iloc[0]\n",
    "df2.movie_release_date.count()"
   ]
  },
  {
   "cell_type": "code",
   "execution_count": null,
   "id": "9a877cb4-419f-4389-957a-a3b1aa90923b",
   "metadata": {},
   "outputs": [],
   "source": [
    "\n",
    "dated_movies = df2[df2.movie_release_date.isnull()==False][['Wikipedia_movie_ID','movie_name','movie_release_date']]\n",
    "dated_movies.movie_release_date = pd.to_datetime(dated_movies.movie_release_date)\n",
    "dated_movies.describe(datetime_is_numeric=True)\n",
    "dated_movies.sort_values(\"movie_release_date\", ascending=True)[100:7000]"
   ]
  },
  {
   "cell_type": "code",
   "execution_count": null,
   "id": "2fa6cb06-ca9d-4ede-b75e-19022fa746ed",
   "metadata": {},
   "outputs": [],
   "source": [
    "dated_movies[dated_movies.movie_release_date == '1888-01-01']\n",
    "print(df2.iloc[70978])"
   ]
  },
  {
   "cell_type": "code",
   "execution_count": null,
   "id": "7be354bf-5e58-44d1-a657-0d1e1be1eaaf",
   "metadata": {},
   "outputs": [],
   "source": [
    "my_report  = sweetviz.analyze(dated_movies)\n",
    "my_report.show_html('FinalReport.html')"
   ]
  },
  {
   "cell_type": "code",
   "execution_count": null,
   "id": "0e4807c8-3af9-4b1f-9f3d-3ff25514b859",
   "metadata": {},
   "outputs": [],
   "source": [
    "my_report  = sweetviz.analyze(df2)\n",
    "my_report.show_html('FinalReport.html')"
   ]
  },
  {
   "cell_type": "code",
   "execution_count": 60,
   "id": "07da0a96-8a6b-4524-97e1-aabe2bb43d67",
   "metadata": {},
   "outputs": [
    {
     "name": "stdout",
     "output_type": "stream",
     "text": [
      "21696\n"
     ]
    }
   ],
   "source": [
    "i = 0\n",
    "for idx, row in df2.iterrows(): \n",
    "    if 'comedy' in row.MovieGenres.lower():\n",
    "        i = i+1\n",
    "    #elif 'sci' in row.MovieGenres.lower():\n",
    "       # i = i+1\n",
    "print(i)"
   ]
  },
  {
   "cell_type": "markdown",
   "id": "f6cf2c1a-637f-471f-9f78-1dddf87ae1e4",
   "metadata": {},
   "source": [
    "## Plot Summaries"
   ]
  },
  {
   "cell_type": "code",
   "execution_count": 2,
   "id": "0514ff52-347a-44ca-b0d8-2cd0a458e010",
   "metadata": {},
   "outputs": [
    {
     "data": {
      "text/html": [
       "<div>\n",
       "<style scoped>\n",
       "    .dataframe tbody tr th:only-of-type {\n",
       "        vertical-align: middle;\n",
       "    }\n",
       "\n",
       "    .dataframe tbody tr th {\n",
       "        vertical-align: top;\n",
       "    }\n",
       "\n",
       "    .dataframe thead th {\n",
       "        text-align: right;\n",
       "    }\n",
       "</style>\n",
       "<table border=\"1\" class=\"dataframe\">\n",
       "  <thead>\n",
       "    <tr style=\"text-align: right;\">\n",
       "      <th></th>\n",
       "      <th>Wikipedia_movie_ID</th>\n",
       "      <th>film_plot</th>\n",
       "    </tr>\n",
       "  </thead>\n",
       "  <tbody>\n",
       "    <tr>\n",
       "      <th>0</th>\n",
       "      <td>23890098</td>\n",
       "      <td>Shlykov, a hard-working taxi driver and Lyosha...</td>\n",
       "    </tr>\n",
       "    <tr>\n",
       "      <th>1</th>\n",
       "      <td>31186339</td>\n",
       "      <td>The nation of Panem consists of a wealthy Capi...</td>\n",
       "    </tr>\n",
       "    <tr>\n",
       "      <th>2</th>\n",
       "      <td>20663735</td>\n",
       "      <td>Poovalli Induchoodan  is sentenced for six yea...</td>\n",
       "    </tr>\n",
       "    <tr>\n",
       "      <th>3</th>\n",
       "      <td>2231378</td>\n",
       "      <td>The Lemon Drop Kid , a New York City swindler,...</td>\n",
       "    </tr>\n",
       "    <tr>\n",
       "      <th>4</th>\n",
       "      <td>595909</td>\n",
       "      <td>Seventh-day Adventist Church pastor Michael Ch...</td>\n",
       "    </tr>\n",
       "  </tbody>\n",
       "</table>\n",
       "</div>"
      ],
      "text/plain": [
       "   Wikipedia_movie_ID                                          film_plot\n",
       "0            23890098  Shlykov, a hard-working taxi driver and Lyosha...\n",
       "1            31186339  The nation of Panem consists of a wealthy Capi...\n",
       "2            20663735  Poovalli Induchoodan  is sentenced for six yea...\n",
       "3             2231378  The Lemon Drop Kid , a New York City swindler,...\n",
       "4              595909  Seventh-day Adventist Church pastor Michael Ch..."
      ]
     },
     "execution_count": 2,
     "metadata": {},
     "output_type": "execute_result"
    }
   ],
   "source": [
    "df3 = pd.read_table(DATA_FOLDER  +\"plot_summaries.txt\", names = ['Wikipedia_movie_ID', 'film_plot'])\n",
    "df3.head()"
   ]
  },
  {
   "cell_type": "code",
   "execution_count": null,
   "id": "73a023b4-eef9-4c3e-b91c-64f652c66397",
   "metadata": {},
   "outputs": [],
   "source": [
    "df3.film_plot\n",
    "old_film_plot = df3[df3.Wikipedia_movie_ID <=57963]\n",
    "old_film_plot"
   ]
  },
  {
   "cell_type": "code",
   "execution_count": 51,
   "id": "ea607880-27a9-42e9-84d4-fa3c17eb762c",
   "metadata": {},
   "outputs": [],
   "source": [
    "df3['WarRelated'] = ''\n",
    "#'war' in df3.film_plot\n",
    "#df3.query(['war' in df3.film_plot == True ])\n",
    "i = 0\n",
    "for idx, row in df3.iterrows(): \n",
    "    if 'world war' in row.film_plot.lower():\n",
    "        #df3.drop(idx)\n",
    "        i = i+1\n",
    "    elif ' war ' in row.film_plot.lower():\n",
    "        i = i+1\n",
    "    elif 'hitler' in row.film_plot.lower():\n",
    "        i = i+1\n",
    "    elif 'nazi' in row.film_plot.lower():\n",
    "        i = i+1\n",
    "#type(' war ' in df3.film_plot[1])"
   ]
  },
  {
   "cell_type": "code",
   "execution_count": 52,
   "id": "25a722c5-aedf-4ee6-a13b-1cd84ce9ba94",
   "metadata": {},
   "outputs": [
    {
     "data": {
      "text/plain": [
       "3485"
      ]
     },
     "execution_count": 52,
     "metadata": {},
     "output_type": "execute_result"
    }
   ],
   "source": [
    "df3.count()\n",
    "i"
   ]
  },
  {
   "cell_type": "markdown",
   "id": "b11f27ca-9ae9-4f28-bc5a-3067db6c77cc",
   "metadata": {},
   "source": [
    "## TV tropes"
   ]
  },
  {
   "cell_type": "code",
   "execution_count": null,
   "id": "8717b91b-4798-4ed2-b04f-5f5d7194ac18",
   "metadata": {},
   "outputs": [],
   "source": [
    "df4 = pd.read_table(DATA_FOLDER  +\"tvtropes.clusters.txt\")\n",
    "df4.head()"
   ]
  }
 ],
 "metadata": {
  "kernelspec": {
   "display_name": "Python [conda env:ada] *",
   "language": "python",
   "name": "conda-env-ada-py"
  },
  "language_info": {
   "codemirror_mode": {
    "name": "ipython",
    "version": 3
   },
   "file_extension": ".py",
   "mimetype": "text/x-python",
   "name": "python",
   "nbconvert_exporter": "python",
   "pygments_lexer": "ipython3",
   "version": "3.9.13"
  }
 },
 "nbformat": 4,
 "nbformat_minor": 5
}
